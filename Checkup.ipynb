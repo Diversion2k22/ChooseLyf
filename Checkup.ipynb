{
  "nbformat": 4,
  "nbformat_minor": 0,
  "metadata": {
    "colab": {
      "name": "Checkup.ipynb",
      "provenance": []
    },
    "kernelspec": {
      "name": "python3",
      "display_name": "Python 3"
    },
    "language_info": {
      "name": "python"
    }
  },
  "cells": [
    {
      "cell_type": "code",
      "metadata": {
        "id": "rq4UM76Oar_R"
      },
      "source": [
        "from joblib import dump, load\n",
        "import pandas as pd\n",
        "from sklearn.model_selection import train_test_split, cross_val_score\n",
        "from sklearn.metrics import accuracy_score, confusion_matrix, classification_report\n",
        "# Trees Approach\n",
        "from sklearn.tree import DecisionTreeClassifier\n",
        "import csv\n",
        "import codecs"
      ],
      "execution_count": 1,
      "outputs": []
    },
    {
      "cell_type": "markdown",
      "metadata": {
        "id": "Hhg_nG_9cVRm"
      },
      "source": [
        "# Function to Load Train Dataset"
      ]
    },
    {
      "cell_type": "code",
      "metadata": {
        "id": "7oI0xq7mcZEy"
      },
      "source": [
        "def _load_train_dataset():\n",
        "    #training_data_path= './training_data.csv'\n",
        "    df_train = pd.read_csv('/content/training_data.csv')\n",
        "    cols = df_train.columns\n",
        "    cols = cols[:-2]\n",
        "    train_features = df_train[cols]\n",
        "    train_labels = df_train['prognosis']\n",
        "\n",
        "\n",
        "    return train_features, train_labels, df_train"
      ],
      "execution_count": 2,
      "outputs": []
    },
    {
      "cell_type": "markdown",
      "metadata": {
        "id": "aLW0hwmnczQ6"
      },
      "source": [
        "# Function to Load Test Dataset"
      ]
    },
    {
      "cell_type": "code",
      "metadata": {
        "id": "g6sZVqz-c0d5"
      },
      "source": [
        "def _load_test_dataset():\n",
        "    #test_data_path= './Book1.csv'\n",
        "    df_test = pd.read_csv('/content/Book1.csv')\n",
        "    cols = df_test.columns\n",
        "    cols = cols[:-2]\n",
        "    test_features = df_test[cols]\n",
        "    test_labels = df_test['prognosis']\n",
        "\n",
        "\n",
        "    return test_features, test_labels, df_test"
      ],
      "execution_count": 3,
      "outputs": []
    },
    {
      "cell_type": "markdown",
      "metadata": {
        "id": "NSLjdIu1dKTN"
      },
      "source": [
        "# Dataset Train Validation Split"
      ]
    },
    {
      "cell_type": "code",
      "metadata": {
        "id": "6XwsT9FSdLCW"
      },
      "source": [
        "def _train_val_split(train_features,train_labels):\n",
        "    X_train, X_val, y_train, y_val = train_test_split(train_features,train_labels,\n",
        "                                                      test_size=0.33,\n",
        "                                                      random_state=101)\n",
        "    return X_train, y_train, X_val, y_val"
      ],
      "execution_count": 4,
      "outputs": []
    },
    {
      "cell_type": "markdown",
      "metadata": {
        "id": "X-Xd3lIedUoB"
      },
      "source": [
        "# ML Model"
      ]
    },
    {
      "cell_type": "code",
      "metadata": {
        "id": "otrI8f6fdVca"
      },
      "source": [
        "def train_model(train_features,train_labels,model_name,model_save_path):\n",
        "    # Get the Data\n",
        "    X_train, y_train, X_val, y_val = _train_val_split(train_features,train_labels)\n",
        "    dec_tree = DecisionTreeClassifier(ccp_alpha=0.0, class_weight=None, criterion='entropy',\n",
        "                       max_depth=6, max_features=None, max_leaf_nodes=None,\n",
        "                       min_impurity_decrease=0.0,\n",
        "                       min_samples_leaf=1, min_samples_split=2,\n",
        "                       min_weight_fraction_leaf=0.0,\n",
        "                       random_state=42, splitter='best')\n",
        "    classifier = dec_tree.fit(X_train, y_train)\n",
        "    # Trained Model Evaluation on Validation Dataset\n",
        "    confidence = classifier.score(X_val, y_val)\n",
        "    # Validation Data Prediction\n",
        "    y_pred = classifier.predict(X_val)\n",
        "    # Model Validation Accuracy\n",
        "    accuracy = accuracy_score(y_val, y_pred)\n",
        "    score = cross_val_score(classifier, X_val, y_val, cv=3)\n",
        "\n",
        "\n",
        "    return classifier,score"
      ],
      "execution_count": 10,
      "outputs": []
    },
    {
      "cell_type": "code",
      "metadata": {
        "colab": {
          "base_uri": "https://localhost:8080/"
        },
        "id": "GmgpGHmkjdC9",
        "outputId": "734d1921-fb48-4663-d742-a113d401620d"
      },
      "source": [
        "score"
      ],
      "execution_count": 16,
      "outputs": [
        {
          "output_type": "execute_result",
          "data": {
            "text/plain": [
              "array([0.80073801, 0.82439926, 0.82439926])"
            ]
          },
          "metadata": {},
          "execution_count": 16
        }
      ]
    },
    {
      "cell_type": "markdown",
      "metadata": {
        "id": "d5WNXUnBdZtq"
      },
      "source": [
        "# Model Selection gridcv"
      ]
    },
    {
      "cell_type": "markdown",
      "metadata": {
        "id": "0Q0B8icmdx_6"
      },
      "source": [
        " # Training the Model"
      ]
    },
    {
      "cell_type": "code",
      "metadata": {
        "id": "dfLzlAwocRvO"
      },
      "source": [
        "# Function to Make Predictions on Test Data\n",
        "def make_prediction(test_features,test_labels, our_model=None):\n",
        "    clf=our_model\n",
        "\n",
        "    if clf is None:\n",
        "        print(\"Model Not found\")\n",
        "        return 0\n",
        "    result = clf.predict(test_features)\n",
        "    return result"
      ],
      "execution_count": 11,
      "outputs": []
    },
    {
      "cell_type": "code",
      "metadata": {
        "colab": {
          "base_uri": "https://localhost:8080/"
        },
        "id": "A9afFTzof7kB",
        "outputId": "56a0d5ed-8ca0-4e35-f234-43735c8663c3"
      },
      "source": [
        "#Main function\n",
        "if __name__ == \"__main__\":\n",
        "    # Model Currently Training\n",
        "    model_name = 'decision_tree'\n",
        "    # Model Save Path\n",
        "    model_save_path= './saved_model/'\n",
        "\n",
        "    #Verbose for Log prints\n",
        "    verbose= False\n",
        "\n",
        "    # Load Training Data\n",
        "    train_features,train_labels,train_df = _load_train_dataset()\n",
        "\n",
        "    # Load Test Data\n",
        "    test_features,test_labels,test_df = _load_test_dataset()\n",
        "\n",
        "    # Training the model\n",
        "    model,score=train_model(train_features,train_labels,model_name,model_save_path)\n",
        "    #print(\"Cross validation Score: \", score)\n",
        "\n",
        "    # Get Model Performance on Test Data\n",
        "    ans=make_prediction(test_features=test_features, test_labels=test_labels, our_model=model)\n",
        "    print(ans[0])\n",
        "\n",
        "    in_file = open(\"./Book1.csv\", \"r\")\n",
        "    reader = csv.reader(in_file)\n",
        "    my_list=list(reader)\n",
        "    in_file.close()\n",
        "\n",
        "    my_list[1][131]=ans[0]\n",
        "\n",
        "    out_file = open(\"./Book1.csv\", \"w\", newline = '')\n",
        "    csv_writer = csv.writer(out_file)\n",
        "    csv_writer.writerows(my_list)\n",
        "    out_file.close()"
      ],
      "execution_count": 12,
      "outputs": [
        {
          "output_type": "stream",
          "name": "stdout",
          "text": [
            "Urinary tract infection\n"
          ]
        }
      ]
    }
  ]
}